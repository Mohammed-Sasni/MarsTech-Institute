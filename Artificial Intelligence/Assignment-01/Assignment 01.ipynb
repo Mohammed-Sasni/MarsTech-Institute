{
 "cells": [
  {
   "cell_type": "code",
   "execution_count": 1,
   "id": "d6fd7c85-3183-4895-8b00-4ccdcb41e757",
   "metadata": {},
   "outputs": [
    {
     "name": "stdout",
     "output_type": "stream",
     "text": [
      "Welcome to Assignment-1\n"
     ]
    }
   ],
   "source": [
    "print(\"Welcome to Assignment-1\")"
   ]
  },
  {
   "cell_type": "code",
   "execution_count": 3,
   "id": "a7d2e5f6-a38d-4c11-ba72-844c308cffab",
   "metadata": {},
   "outputs": [
    {
     "name": "stdout",
     "output_type": "stream",
     "text": [
      "Num1= 10\n",
      "Num2= 30\n",
      "Add= 40\n"
     ]
    }
   ],
   "source": [
    "Num1=10\n",
    "Num2=30\n",
    "add=Num1+Num2\n",
    "\n",
    "print(\"Num1=\",Num1)\n",
    "print(\"Num2=\",Num2)\n",
    "print(\"Add=\",add)\n"
   ]
  },
  {
   "cell_type": "code",
   "execution_count": 17,
   "id": "ce7c69d1-502b-42ce-9731-7adf9e0effa1",
   "metadata": {},
   "outputs": [
    {
     "name": "stdin",
     "output_type": "stream",
     "text": [
      "Enter the BMI Index : 34\n"
     ]
    },
    {
     "name": "stdout",
     "output_type": "stream",
     "text": [
      "Overweight\n"
     ]
    }
   ],
   "source": [
    "BMI=int(input(\"Enter the BMI Index :\"))\n",
    "\n",
    "if(BMI<=18.4):\n",
    "    print(\"Underweight\")\n",
    "elif(18.5<= BMI <=24.9):\n",
    "    print(\"Normal\")\n",
    "elif(25.0<= BMI <=39.9):\n",
    "    print(\"Overweight\")\n",
    "else:\n",
    "    print(\"Obese\")"
   ]
  },
  {
   "cell_type": "code",
   "execution_count": null,
   "id": "8e66a92a-19bf-44d2-8af5-bad630ec7091",
   "metadata": {},
   "outputs": [],
   "source": []
  }
 ],
 "metadata": {
  "kernelspec": {
   "display_name": "Python [conda env:base] *",
   "language": "python",
   "name": "conda-base-py"
  },
  "language_info": {
   "codemirror_mode": {
    "name": "ipython",
    "version": 3
   },
   "file_extension": ".py",
   "mimetype": "text/x-python",
   "name": "python",
   "nbconvert_exporter": "python",
   "pygments_lexer": "ipython3",
   "version": "3.12.7"
  }
 },
 "nbformat": 4,
 "nbformat_minor": 5
}
