{
 "cells": [
  {
   "cell_type": "code",
   "execution_count": 1,
   "id": "76d9e6f7-882f-4f0e-9606-ae35563c4500",
   "metadata": {},
   "outputs": [
    {
     "name": "stdout",
     "output_type": "stream",
     "text": [
      "Mars Tech\n"
     ]
    }
   ],
   "source": [
    "print(\"Mars Tech\")"
   ]
  },
  {
   "cell_type": "code",
   "execution_count": 3,
   "id": "d70a21a0-5b48-44c3-a56d-7b8dfe3cfdec",
   "metadata": {},
   "outputs": [
    {
     "name": "stdin",
     "output_type": "stream",
     "text": [
      "Enter Your Institute Name :  Mars Tech\n"
     ]
    }
   ],
   "source": [
    "inst=input(\"Enter Your Institute Name : \")"
   ]
  },
  {
   "cell_type": "code",
   "execution_count": 5,
   "id": "423525c8-5adb-4ce1-950e-680711e1e681",
   "metadata": {},
   "outputs": [
    {
     "name": "stdin",
     "output_type": "stream",
     "text": [
      "Enter Your Name : Raj\n",
      "Enter Your Age : 15\n",
      "Enter Your School Name :  Guru School\n",
      "Enter Your Degree : B.E CSE\n"
     ]
    }
   ],
   "source": [
    "name=input(\"Enter Your Name :\")\n",
    "age=int(input(\"Enter Your Age :\"))\n",
    "school=input(\"Enter Your School Name : \")\n",
    "degree=input(\"Enter Your Degree :\")\n"
   ]
  },
  {
   "cell_type": "code",
   "execution_count": 7,
   "id": "d65f6b49-538b-4f6e-a3ca-0f7d6284d8f5",
   "metadata": {},
   "outputs": [
    {
     "name": "stdout",
     "output_type": "stream",
     "text": [
      "a= 43\n",
      "b= 34\n",
      "add 77\n"
     ]
    }
   ],
   "source": [
    "a=43\n",
    "b=34\n",
    "add=a+b\n",
    "\n",
    "print(\"a=\",a)\n",
    "print(\"b=\",b)\n",
    "print(\"add\",add)"
   ]
  },
  {
   "cell_type": "code",
   "execution_count": 9,
   "id": "b1d9e268-483f-4980-b46e-6ec17427425d",
   "metadata": {},
   "outputs": [
    {
     "name": "stdout",
     "output_type": "stream",
     "text": [
      "a= 43\n",
      "b= 34\n",
      "sub 9\n"
     ]
    }
   ],
   "source": [
    "a=43\n",
    "b=34\n",
    "sub=a-b\n",
    "\n",
    "print(\"a=\",a)\n",
    "print(\"b=\",b)\n",
    "print(\"sub\",sub)"
   ]
  },
  {
   "cell_type": "code",
   "execution_count": null,
   "id": "d59ac248-3cd2-45ee-8a50-9a6f2423b3e3",
   "metadata": {},
   "outputs": [],
   "source": []
  }
 ],
 "metadata": {
  "kernelspec": {
   "display_name": "Python [conda env:base] *",
   "language": "python",
   "name": "conda-base-py"
  },
  "language_info": {
   "codemirror_mode": {
    "name": "ipython",
    "version": 3
   },
   "file_extension": ".py",
   "mimetype": "text/x-python",
   "name": "python",
   "nbconvert_exporter": "python",
   "pygments_lexer": "ipython3",
   "version": "3.12.7"
  }
 },
 "nbformat": 4,
 "nbformat_minor": 5
}
