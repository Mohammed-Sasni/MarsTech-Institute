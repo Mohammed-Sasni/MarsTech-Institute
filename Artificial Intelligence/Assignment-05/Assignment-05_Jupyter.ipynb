{
 "cells": [
  {
   "cell_type": "code",
   "execution_count": 61,
   "id": "1c333e81-07cf-4313-b2af-d55b4874dcf6",
   "metadata": {},
   "outputs": [
    {
     "name": "stdout",
     "output_type": "stream",
     "text": [
      "Sub-fields in AI are:\n",
      "  Machine Learning\n",
      "  Neural Networks\n",
      "  Vision\n",
      "  Robotics\n",
      "  Speech Processing\n",
      "  Natural Language Processing\n"
     ]
    }
   ],
   "source": [
    "class SubfieldsInAI:\n",
    "    def Subfields(self):\n",
    "        sub_ai= [\n",
    "            \"Machine Learning\",\n",
    "            \"Neural Networks\",\n",
    "            \"Vision\",\n",
    "            \"Robotics\",\n",
    "            \"Speech Processing\",\n",
    "            \"Natural Language Processing\"\n",
    "        ]\n",
    "        print(\"Sub-fields in AI are:\")\n",
    "        for subfield in sub_ai:\n",
    "            print(\" \", subfield)\n",
    "\n",
    "asms = SubfieldsInAI()\n",
    "asms.Subfields()"
   ]
  },
  {
   "cell_type": "code",
   "execution_count": 67,
   "id": "039764c4-2548-42ce-a230-3c86f986bef2",
   "metadata": {},
   "outputs": [
    {
     "name": "stdin",
     "output_type": "stream",
     "text": [
      "Enter a Number : 52452\n"
     ]
    },
    {
     "name": "stdout",
     "output_type": "stream",
     "text": [
      "52452 is Even Number\n"
     ]
    }
   ],
   "source": [
    "class OddEven:\n",
    "    def OddEven(self):\n",
    "        num = int (input(\"Enter a Number :\"))\n",
    "        if (num % 2 == 0)  :\n",
    "            print(num , \"is Even Number\")\n",
    "        else:\n",
    "            print(num , \"is Odd Number\")\n",
    "\n",
    "\n",
    "check = OddEven()\n",
    "check.OddEven()"
   ]
  },
  {
   "cell_type": "code",
   "execution_count": 93,
   "id": "ac5d0c27-0bb0-4ec2-975a-faabddf2fe94",
   "metadata": {},
   "outputs": [
    {
     "name": "stdin",
     "output_type": "stream",
     "text": [
      "Enter Your Gender ( Male / Female ) : male\n",
      "Enter Your Age : 20\n"
     ]
    },
    {
     "name": "stdout",
     "output_type": "stream",
     "text": [
      "NOT ELIGIBLE\n"
     ]
    }
   ],
   "source": [
    "class ElegiblityForMarriage:\n",
    "    def Elegible(self):\n",
    "        gender = input(\"Enter Your Gender ( Male / Female ) :\" ).capitalize()\n",
    "        age = int(input(\"Enter Your Age :\"))\n",
    "\n",
    "\n",
    "        if ( gender == \"Male\" and age >= 21 ) :\n",
    "            print (\"ELIGIBLE\")\n",
    "        elif ( gender == \"Female\" and age >= 18 ):\n",
    "            print (\"ELIGIBLE\")\n",
    "        else:\n",
    "            print (\"NOT ELIGIBLE\")\n",
    "\n",
    "\n",
    "\n",
    "MarrCheck = ElegiblityForMarriage()\n",
    "MarrCheck.Elegible()"
   ]
  },
  {
   "cell_type": "code",
   "execution_count": 130,
   "id": "da783d72-0620-4585-8b91-203ef4bc079a",
   "metadata": {},
   "outputs": [
    {
     "name": "stdout",
     "output_type": "stream",
     "text": [
      "Subject1 = 98\n",
      "Subject2 = 87\n",
      "Subject3 = 95\n",
      "Subject4 = 95\n",
      "Subject5 = 93\n",
      "Total Marks = 468\n",
      "Percentage = 93.60000000000001\n"
     ]
    }
   ],
   "source": [
    "class FindPercent:\n",
    "    def percentage(self):\n",
    "        Subject1 = 98\n",
    "        Subject2 = 87\n",
    "        Subject3 = 95\n",
    "        Subject4 = 95\n",
    "        Subject5 = 93\n",
    "\n",
    "\n",
    "        TotalMarks = Subject1 + Subject2 + Subject3 + Subject4 + Subject5\n",
    "        Percent = ( TotalMarks / 500 ) * 100\n",
    "\n",
    "\n",
    "\n",
    "        print( \"Subject1 =\" , Subject1 )\n",
    "        print( \"Subject2 =\" , Subject2 )\n",
    "        print( \"Subject3 =\" , Subject3 )\n",
    "        print( \"Subject4 =\" , Subject4 )\n",
    "        print( \"Subject5 =\" , Subject5 )\n",
    "        print ( \"Total Marks =\", TotalMarks )\n",
    "        print ( \"Percentage =\",  Percent )\n",
    "\n",
    "\n",
    "        \n",
    "\n",
    "\n",
    "calculate = FindPercent()\n",
    "calculate.percentage()"
   ]
  },
  {
   "cell_type": "code",
   "execution_count": 138,
   "id": "8375a0c6-efbf-4cca-9c8a-0bf2367acfa0",
   "metadata": {},
   "outputs": [
    {
     "name": "stdout",
     "output_type": "stream",
     "text": [
      "Height : 32\n",
      "Breadth : 34\n",
      "Area Formula  =  ( Height * Breadth ) / 2\n",
      "Area of Triangle =  544.0\n",
      "\n",
      "\n",
      "Height1 : 2\n",
      "Height1 : 4\n",
      "Breadth : 4\n",
      "Perimeter Formula  =  Height1 + Height2 + Breadth\n",
      "Perimeter of Triangle = 40\n"
     ]
    }
   ],
   "source": [
    "class triangle:\n",
    "    def triangle(self):\n",
    "\n",
    "        Height = 32\n",
    "        Breadth = 34\n",
    "\n",
    "        area = \"( Height * Breadth ) / 2\"\n",
    "        Area = ( Height * Breadth ) / 2\n",
    "        \n",
    "\n",
    "        print ( \"Height :\" , Height )\n",
    "        print ( \"Breadth :\" , Breadth )\n",
    "        print ( \"Area Formula  = \" , area )\n",
    "        print ( \"Area of Triangle = \" , Area )\n",
    "\n",
    "        print ( \"\\n\" )\n",
    "\n",
    "\n",
    "\n",
    "        Height1 = 2\n",
    "        Height2 = 4\n",
    "        Breadth1 = 4\n",
    "\n",
    "        perimeter = \"Height1 + Height2 + Breadth\"\n",
    "        Perimeter = Height1 + Height2 + Breadth\n",
    "\n",
    "        print ( \"Height1 :\" , Height1 )\n",
    "        print ( \"Height1 :\" , Height2 )\n",
    "        print ( \"Breadth :\" , Breadth1 )\n",
    "        print ( \"Perimeter Formula  = \" , perimeter )\n",
    "        print ( \"Perimeter of Triangle =\" , Perimeter )\n",
    "\n",
    "\n",
    "Triangle = triangle()\n",
    "Triangle.triangle()"
   ]
  },
  {
   "cell_type": "code",
   "execution_count": null,
   "id": "f5ff2f2e-9dfe-4a99-a1da-c0443306d16e",
   "metadata": {},
   "outputs": [],
   "source": []
  }
 ],
 "metadata": {
  "kernelspec": {
   "display_name": "Python [conda env:base] *",
   "language": "python",
   "name": "conda-base-py"
  },
  "language_info": {
   "codemirror_mode": {
    "name": "ipython",
    "version": 3
   },
   "file_extension": ".py",
   "mimetype": "text/x-python",
   "name": "python",
   "nbconvert_exporter": "python",
   "pygments_lexer": "ipython3",
   "version": "3.12.7"
  }
 },
 "nbformat": 4,
 "nbformat_minor": 5
}
