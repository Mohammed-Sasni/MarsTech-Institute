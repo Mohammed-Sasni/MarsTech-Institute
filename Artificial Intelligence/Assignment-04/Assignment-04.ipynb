{
 "cells": [
  {
   "cell_type": "code",
   "execution_count": 7,
   "id": "fa4a0fff-a31b-4635-8890-6c3a25a54f70",
   "metadata": {},
   "outputs": [
    {
     "name": "stdin",
     "output_type": "stream",
     "text": [
      "Enter a Number : 10\n"
     ]
    },
    {
     "name": "stdout",
     "output_type": "stream",
     "text": [
      "CORRECT\n"
     ]
    }
   ],
   "source": [
    "# print ‘CORRECT’ if i == 10\n",
    "\n",
    "i = int(input(\"Enter a Number :\"))\n",
    "if (i==10):\n",
    "    print(\"CORRECT\")\n",
    "else:\n",
    "    print(\"WRONG\")"
   ]
  },
  {
   "cell_type": "code",
   "execution_count": 3,
   "id": "c42cad3c-cd23-494a-966b-6f4b48b9ffd9",
   "metadata": {},
   "outputs": [
    {
     "name": "stdin",
     "output_type": "stream",
     "text": [
      "Enter The Password : marstech@123\n"
     ]
    },
    {
     "name": "stdout",
     "output_type": "stream",
     "text": [
      "Your Password is Correct\n"
     ]
    }
   ],
   "source": [
    "# Check the password, using if and else\n",
    "\n",
    "password = input(\"Enter The Password :\")\n",
    "if (password == \"marstech@123\"):\n",
    "    print(\"Your Password is Correct\")\n",
    "else:\n",
    "    print(\"Your Password is Wrong\")"
   ]
  },
  {
   "cell_type": "code",
   "execution_count": 45,
   "id": "73b54f6c-9220-4b40-8452-8ac4aab2e85b",
   "metadata": {},
   "outputs": [
    {
     "name": "stdin",
     "output_type": "stream",
     "text": [
      "Enter Your Age : 25\n"
     ]
    },
    {
     "name": "stdout",
     "output_type": "stream",
     "text": [
      "Adult\n"
     ]
    }
   ],
   "source": [
    "# Catagory the people by their age like children, adult, citizen, senior citizen...\n",
    "\n",
    "age = int(input(\"Enter Your Age :\"))\n",
    "if (0 < age < 18):\n",
    "    print(\"Children\")\n",
    "elif(18 <= age <= 30):\n",
    "    print(\"Adult\")\n",
    "elif(30 < age <= 50):\n",
    "    print(\"Citizen\")\n",
    "elif(age > 50):\n",
    "    print(\"Senior Citizen\")\n",
    "else:\n",
    "    print(\"Incorrect Input\")"
   ]
  },
  {
   "cell_type": "code",
   "execution_count": 43,
   "id": "6c748d71-915a-4ff5-808a-688b448182d2",
   "metadata": {},
   "outputs": [
    {
     "name": "stdin",
     "output_type": "stream",
     "text": [
      "Enter a Number : 1\n"
     ]
    },
    {
     "name": "stdout",
     "output_type": "stream",
     "text": [
      "Number is Positive\n"
     ]
    }
   ],
   "source": [
    "# Find whether given number is positive or negative\n",
    "\n",
    "num = int(input(\"Enter a Number :\"))\n",
    "if(num > 0):\n",
    "    print(\"Number is Positive\")\n",
    "elif(num < 0):\n",
    "    print(\"Number is Negative\")\n",
    "else:\n",
    "    print(\"Incorrect Input\")"
   ]
  },
  {
   "cell_type": "code",
   "execution_count": 55,
   "id": "ba1f2bf4-07b0-414d-8e90-0137fb276796",
   "metadata": {},
   "outputs": [
    {
     "name": "stdin",
     "output_type": "stream",
     "text": [
      "Enter a Number : 22\n"
     ]
    },
    {
     "name": "stdout",
     "output_type": "stream",
     "text": [
      "Number is  Not Divisible by 5\n"
     ]
    }
   ],
   "source": [
    "# Check whether the given number is divisible by 5\n",
    "\n",
    "num = int(input(\"Enter a Number :\"))\n",
    "\n",
    "if(num % 5 == 0):\n",
    "    print(\"Number is Divisible by 5\")\n",
    "else:\n",
    "    print(\"Number is  Not Divisible by 5\")"
   ]
  },
  {
   "cell_type": "code",
   "execution_count": null,
   "id": "b687ee05-cf3b-4914-a1d8-60e752f95b31",
   "metadata": {},
   "outputs": [],
   "source": []
  }
 ],
 "metadata": {
  "kernelspec": {
   "display_name": "Python [conda env:base] *",
   "language": "python",
   "name": "conda-base-py"
  },
  "language_info": {
   "codemirror_mode": {
    "name": "ipython",
    "version": 3
   },
   "file_extension": ".py",
   "mimetype": "text/x-python",
   "name": "python",
   "nbconvert_exporter": "python",
   "pygments_lexer": "ipython3",
   "version": "3.12.7"
  }
 },
 "nbformat": 4,
 "nbformat_minor": 5
}
